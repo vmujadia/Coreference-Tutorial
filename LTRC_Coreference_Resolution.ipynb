{
  "nbformat": 4,
  "nbformat_minor": 0,
  "metadata": {
    "colab": {
      "name": "LTRC : Coreference Resolution.ipynb",
      "provenance": [],
      "collapsed_sections": []
    },
    "kernelspec": {
      "name": "python3",
      "display_name": "Python 3"
    }
  },
  "cells": [
    {
      "cell_type": "markdown",
      "metadata": {
        "id": "ZctFNdZW2swm",
        "colab_type": "text"
      },
      "source": [
        "**Demo for End to End Coreference Resoultion for English**"
      ]
    },
    {
      "cell_type": "code",
      "metadata": {
        "id": "KAcri7qOELNH",
        "colab_type": "code",
        "outputId": "97d0bf6f-08db-4702-f94d-8426060976c7",
        "colab": {
          "base_uri": "https://localhost:8080/",
          "height": 136
        }
      },
      "source": [
        "! git clone https://github.com/kentonl/e2e-coref.git"
      ],
      "execution_count": 1,
      "outputs": [
        {
          "output_type": "stream",
          "text": [
            "Cloning into 'e2e-coref'...\n",
            "remote: Enumerating objects: 3, done.\u001b[K\n",
            "remote: Counting objects:  33% (1/3)\u001b[K\rremote: Counting objects:  66% (2/3)\u001b[K\rremote: Counting objects: 100% (3/3)\u001b[K\rremote: Counting objects: 100% (3/3), done.\u001b[K\n",
            "remote: Compressing objects:  33% (1/3)\u001b[K\rremote: Compressing objects:  66% (2/3)\u001b[K\rremote: Compressing objects: 100% (3/3)\u001b[K\rremote: Compressing objects: 100% (3/3), done.\u001b[K\n",
            "Receiving objects:   0% (1/162)   \rReceiving objects:   1% (2/162)   \rReceiving objects:   2% (4/162)   \rReceiving objects:   3% (5/162)   \rReceiving objects:   4% (7/162)   \rReceiving objects:   5% (9/162)   \rReceiving objects:   6% (10/162)   \rReceiving objects:   7% (12/162)   \rReceiving objects:   8% (13/162)   \rReceiving objects:   9% (15/162)   \rReceiving objects:  10% (17/162)   \rReceiving objects:  11% (18/162)   \rReceiving objects:  12% (20/162)   \rReceiving objects:  13% (22/162)   \rReceiving objects:  14% (23/162)   \rReceiving objects:  15% (25/162)   \rReceiving objects:  16% (26/162)   \rReceiving objects:  17% (28/162)   \rReceiving objects:  18% (30/162)   \rReceiving objects:  19% (31/162)   \rReceiving objects:  20% (33/162)   \rReceiving objects:  21% (35/162)   \rReceiving objects:  22% (36/162)   \rReceiving objects:  23% (38/162)   \rReceiving objects:  24% (39/162)   \rReceiving objects:  25% (41/162)   \rReceiving objects:  26% (43/162)   \rReceiving objects:  27% (44/162)   \rremote: Total 162 (delta 0), reused 1 (delta 0), pack-reused 159\u001b[K\n",
            "Receiving objects:  28% (46/162)   \rReceiving objects:  29% (47/162)   \rReceiving objects:  30% (49/162)   \rReceiving objects:  31% (51/162)   \rReceiving objects:  32% (52/162)   \rReceiving objects:  33% (54/162)   \rReceiving objects:  34% (56/162)   \rReceiving objects:  35% (57/162)   \rReceiving objects:  36% (59/162)   \rReceiving objects:  37% (60/162)   \rReceiving objects:  38% (62/162)   \rReceiving objects:  39% (64/162)   \rReceiving objects:  40% (65/162)   \rReceiving objects:  41% (67/162)   \rReceiving objects:  42% (69/162)   \rReceiving objects:  43% (70/162)   \rReceiving objects:  44% (72/162)   \rReceiving objects:  45% (73/162)   \rReceiving objects:  46% (75/162)   \rReceiving objects:  47% (77/162)   \rReceiving objects:  48% (78/162)   \rReceiving objects:  49% (80/162)   \rReceiving objects:  50% (81/162)   \rReceiving objects:  51% (83/162)   \rReceiving objects:  52% (85/162)   \rReceiving objects:  53% (86/162)   \rReceiving objects:  54% (88/162)   \rReceiving objects:  55% (90/162)   \rReceiving objects:  56% (91/162)   \rReceiving objects:  57% (93/162)   \rReceiving objects:  58% (94/162)   \rReceiving objects:  59% (96/162)   \rReceiving objects:  60% (98/162)   \rReceiving objects:  61% (99/162)   \rReceiving objects:  62% (101/162)   \rReceiving objects:  63% (103/162)   \rReceiving objects:  64% (104/162)   \rReceiving objects:  65% (106/162)   \rReceiving objects:  66% (107/162)   \rReceiving objects:  67% (109/162)   \rReceiving objects:  68% (111/162)   \rReceiving objects:  69% (112/162)   \rReceiving objects:  70% (114/162)   \rReceiving objects:  71% (116/162)   \rReceiving objects:  72% (117/162)   \rReceiving objects:  73% (119/162)   \rReceiving objects:  74% (120/162)   \rReceiving objects:  75% (122/162)   \rReceiving objects:  76% (124/162)   \rReceiving objects:  77% (125/162)   \rReceiving objects:  78% (127/162)   \rReceiving objects:  79% (128/162)   \rReceiving objects:  80% (130/162)   \rReceiving objects:  81% (132/162)   \rReceiving objects:  82% (133/162)   \rReceiving objects:  83% (135/162)   \rReceiving objects:  84% (137/162)   \rReceiving objects:  85% (138/162)   \rReceiving objects:  86% (140/162)   \rReceiving objects:  87% (141/162)   \rReceiving objects:  88% (143/162)   \rReceiving objects:  89% (145/162)   \rReceiving objects:  90% (146/162)   \rReceiving objects:  91% (148/162)   \rReceiving objects:  92% (150/162)   \rReceiving objects:  93% (151/162)   \rReceiving objects:  94% (153/162)   \rReceiving objects:  95% (154/162)   \rReceiving objects:  96% (156/162)   \rReceiving objects:  97% (158/162)   \rReceiving objects:  98% (159/162)   \rReceiving objects:  99% (161/162)   \rReceiving objects: 100% (162/162)   \rReceiving objects: 100% (162/162), 70.76 KiB | 398.00 KiB/s, done.\n",
            "Resolving deltas:   0% (0/74)   \rResolving deltas:   1% (1/74)   \rResolving deltas:   4% (3/74)   \rResolving deltas:   6% (5/74)   \rResolving deltas:  14% (11/74)   \rResolving deltas:  18% (14/74)   \rResolving deltas:  21% (16/74)   \rResolving deltas:  22% (17/74)   \rResolving deltas:  24% (18/74)   \rResolving deltas:  25% (19/74)   \rResolving deltas:  28% (21/74)   \rResolving deltas:  29% (22/74)   \rResolving deltas:  43% (32/74)   \rResolving deltas:  45% (34/74)   \rResolving deltas:  47% (35/74)   \rResolving deltas:  48% (36/74)   \rResolving deltas:  54% (40/74)   \rResolving deltas:  58% (43/74)   \rResolving deltas:  59% (44/74)   \rResolving deltas:  60% (45/74)   \rResolving deltas:  62% (46/74)   \rResolving deltas:  63% (47/74)   \rResolving deltas:  64% (48/74)   \rResolving deltas:  66% (49/74)   \rResolving deltas:  72% (54/74)   \rResolving deltas:  78% (58/74)   \rResolving deltas:  89% (66/74)   \rResolving deltas: 100% (74/74)   \rResolving deltas: 100% (74/74), done.\n"
          ],
          "name": "stdout"
        }
      ]
    },
    {
      "cell_type": "code",
      "metadata": {
        "id": "GSbHVnE6EZN0",
        "colab_type": "code",
        "outputId": "c108d894-6d67-4a73-da0f-d5cf972b4bc9",
        "colab": {
          "base_uri": "https://localhost:8080/",
          "height": 34
        }
      },
      "source": [
        "ls"
      ],
      "execution_count": 2,
      "outputs": [
        {
          "output_type": "stream",
          "text": [
            "\u001b[0m\u001b[01;34me2e-coref\u001b[0m/  \u001b[01;34msample_data\u001b[0m/\n"
          ],
          "name": "stdout"
        }
      ]
    },
    {
      "cell_type": "code",
      "metadata": {
        "id": "iVzEJVizEgQk",
        "colab_type": "code",
        "outputId": "f7160793-8990-4c9e-92b1-da8169684b01",
        "colab": {
          "base_uri": "https://localhost:8080/",
          "height": 34
        }
      },
      "source": [
        "cd e2e-coref/"
      ],
      "execution_count": 3,
      "outputs": [
        {
          "output_type": "stream",
          "text": [
            "/content/e2e-coref\n"
          ],
          "name": "stdout"
        }
      ]
    },
    {
      "cell_type": "code",
      "metadata": {
        "id": "Lp_RywE_EoLz",
        "colab_type": "code",
        "outputId": "8c3c3ad1-9aca-4352-d10d-198df02ddabb",
        "colab": {
          "base_uri": "https://localhost:8080/",
          "height": 153
        }
      },
      "source": [
        "ls"
      ],
      "execution_count": 4,
      "outputs": [
        {
          "output_type": "stream",
          "text": [
            "cache_elmo.py           experiments.conf       README.md\n",
            "\u001b[0m\u001b[01;32mconll.py\u001b[0m*               \u001b[01;32mfilter_embeddings.py\u001b[0m*  requirements.txt\n",
            "continuous_evaluate.py  \u001b[01;32mget_char_vocab.py\u001b[0m*     \u001b[01;32msetup_all.sh\u001b[0m*\n",
            "coref_kernels.cc        LICENSE                \u001b[01;32msetup_training.sh\u001b[0m*\n",
            "coref_model.py          metrics.py             \u001b[01;32mtrain.py\u001b[0m*\n",
            "coref_ops.py            \u001b[01;32mminimize.py\u001b[0m*           util.py\n",
            "\u001b[01;32mdemo.py\u001b[0m*                \u001b[01;32mpredict.py\u001b[0m*            worker.py\n",
            "\u001b[01;32mevaluate.py\u001b[0m*            ps.py\n"
          ],
          "name": "stdout"
        }
      ]
    },
    {
      "cell_type": "code",
      "metadata": {
        "id": "UydnVNRSEpXr",
        "colab_type": "code",
        "outputId": "ef449600-7348-4f11-8365-a3c369a101bf",
        "colab": {
          "base_uri": "https://localhost:8080/",
          "height": 1000
        }
      },
      "source": [
        "!pip install -r requirements.txt"
      ],
      "execution_count": 5,
      "outputs": [
        {
          "output_type": "stream",
          "text": [
            "Collecting tensorflow-gpu>=1.13.1\n",
            "\u001b[?25l  Downloading https://files.pythonhosted.org/packages/25/44/47f0722aea081697143fbcf5d2aa60d1aee4aaacb5869aee2b568974777b/tensorflow_gpu-2.0.0-cp36-cp36m-manylinux2010_x86_64.whl (380.8MB)\n",
            "\u001b[K     |████████████████████████████████| 380.8MB 41kB/s \n",
            "\u001b[?25hRequirement already satisfied: tensorflow-hub>=0.4.0 in /usr/local/lib/python3.6/dist-packages (from -r requirements.txt (line 2)) (0.7.0)\n",
            "Requirement already satisfied: h5py in /usr/local/lib/python3.6/dist-packages (from -r requirements.txt (line 3)) (2.8.0)\n",
            "Requirement already satisfied: nltk in /usr/local/lib/python3.6/dist-packages (from -r requirements.txt (line 4)) (3.2.5)\n",
            "Collecting pyhocon\n",
            "\u001b[?25l  Downloading https://files.pythonhosted.org/packages/3f/35/34e16968df0b8b65d3696d80b8add0aaffd4f0461c1ef3c0f066fdc747e8/pyhocon-0.3.51.tar.gz (70kB)\n",
            "\u001b[K     |████████████████████████████████| 71kB 6.1MB/s \n",
            "\u001b[?25hRequirement already satisfied: scipy in /usr/local/lib/python3.6/dist-packages (from -r requirements.txt (line 6)) (1.3.3)\n",
            "Requirement already satisfied: sklearn in /usr/local/lib/python3.6/dist-packages (from -r requirements.txt (line 7)) (0.0)\n",
            "Requirement already satisfied: grpcio>=1.8.6 in /usr/local/lib/python3.6/dist-packages (from tensorflow-gpu>=1.13.1->-r requirements.txt (line 1)) (1.15.0)\n",
            "Requirement already satisfied: astor>=0.6.0 in /usr/local/lib/python3.6/dist-packages (from tensorflow-gpu>=1.13.1->-r requirements.txt (line 1)) (0.8.0)\n",
            "Requirement already satisfied: numpy<2.0,>=1.16.0 in /usr/local/lib/python3.6/dist-packages (from tensorflow-gpu>=1.13.1->-r requirements.txt (line 1)) (1.17.4)\n",
            "Requirement already satisfied: six>=1.10.0 in /usr/local/lib/python3.6/dist-packages (from tensorflow-gpu>=1.13.1->-r requirements.txt (line 1)) (1.12.0)\n",
            "Requirement already satisfied: opt-einsum>=2.3.2 in /usr/local/lib/python3.6/dist-packages (from tensorflow-gpu>=1.13.1->-r requirements.txt (line 1)) (3.1.0)\n",
            "Collecting tensorboard<2.1.0,>=2.0.0\n",
            "\u001b[?25l  Downloading https://files.pythonhosted.org/packages/76/54/99b9d5d52d5cb732f099baaaf7740403e83fe6b0cedde940fabd2b13d75a/tensorboard-2.0.2-py3-none-any.whl (3.8MB)\n",
            "\u001b[K     |████████████████████████████████| 3.8MB 30.8MB/s \n",
            "\u001b[?25hRequirement already satisfied: keras-applications>=1.0.8 in /usr/local/lib/python3.6/dist-packages (from tensorflow-gpu>=1.13.1->-r requirements.txt (line 1)) (1.0.8)\n",
            "Requirement already satisfied: termcolor>=1.1.0 in /usr/local/lib/python3.6/dist-packages (from tensorflow-gpu>=1.13.1->-r requirements.txt (line 1)) (1.1.0)\n",
            "Collecting tensorflow-estimator<2.1.0,>=2.0.0\n",
            "\u001b[?25l  Downloading https://files.pythonhosted.org/packages/fc/08/8b927337b7019c374719145d1dceba21a8bb909b93b1ad6f8fb7d22c1ca1/tensorflow_estimator-2.0.1-py2.py3-none-any.whl (449kB)\n",
            "\u001b[K     |████████████████████████████████| 450kB 46.5MB/s \n",
            "\u001b[?25hRequirement already satisfied: wheel>=0.26 in /usr/local/lib/python3.6/dist-packages (from tensorflow-gpu>=1.13.1->-r requirements.txt (line 1)) (0.33.6)\n",
            "Requirement already satisfied: keras-preprocessing>=1.0.5 in /usr/local/lib/python3.6/dist-packages (from tensorflow-gpu>=1.13.1->-r requirements.txt (line 1)) (1.1.0)\n",
            "Requirement already satisfied: wrapt>=1.11.1 in /usr/local/lib/python3.6/dist-packages (from tensorflow-gpu>=1.13.1->-r requirements.txt (line 1)) (1.11.2)\n",
            "Requirement already satisfied: absl-py>=0.7.0 in /usr/local/lib/python3.6/dist-packages (from tensorflow-gpu>=1.13.1->-r requirements.txt (line 1)) (0.8.1)\n",
            "Requirement already satisfied: protobuf>=3.6.1 in /usr/local/lib/python3.6/dist-packages (from tensorflow-gpu>=1.13.1->-r requirements.txt (line 1)) (3.10.0)\n",
            "Requirement already satisfied: google-pasta>=0.1.6 in /usr/local/lib/python3.6/dist-packages (from tensorflow-gpu>=1.13.1->-r requirements.txt (line 1)) (0.1.8)\n",
            "Requirement already satisfied: gast==0.2.2 in /usr/local/lib/python3.6/dist-packages (from tensorflow-gpu>=1.13.1->-r requirements.txt (line 1)) (0.2.2)\n",
            "Requirement already satisfied: pyparsing>=2.0.3 in /usr/local/lib/python3.6/dist-packages (from pyhocon->-r requirements.txt (line 5)) (2.4.5)\n",
            "Requirement already satisfied: scikit-learn in /usr/local/lib/python3.6/dist-packages (from sklearn->-r requirements.txt (line 7)) (0.21.3)\n",
            "Requirement already satisfied: setuptools>=41.0.0 in /usr/local/lib/python3.6/dist-packages (from tensorboard<2.1.0,>=2.0.0->tensorflow-gpu>=1.13.1->-r requirements.txt (line 1)) (42.0.2)\n",
            "Requirement already satisfied: google-auth-oauthlib<0.5,>=0.4.1 in /usr/local/lib/python3.6/dist-packages (from tensorboard<2.1.0,>=2.0.0->tensorflow-gpu>=1.13.1->-r requirements.txt (line 1)) (0.4.1)\n",
            "Requirement already satisfied: requests<3,>=2.21.0 in /usr/local/lib/python3.6/dist-packages (from tensorboard<2.1.0,>=2.0.0->tensorflow-gpu>=1.13.1->-r requirements.txt (line 1)) (2.21.0)\n",
            "Requirement already satisfied: markdown>=2.6.8 in /usr/local/lib/python3.6/dist-packages (from tensorboard<2.1.0,>=2.0.0->tensorflow-gpu>=1.13.1->-r requirements.txt (line 1)) (3.1.1)\n",
            "Requirement already satisfied: werkzeug>=0.11.15 in /usr/local/lib/python3.6/dist-packages (from tensorboard<2.1.0,>=2.0.0->tensorflow-gpu>=1.13.1->-r requirements.txt (line 1)) (0.16.0)\n",
            "Collecting google-auth<2,>=1.6.3\n",
            "\u001b[?25l  Downloading https://files.pythonhosted.org/packages/b6/48/50934afa81c9ab6d68acc19c1c0543f765699fa4e3a36d675baa97816bb1/google_auth-1.8.1-py2.py3-none-any.whl (75kB)\n",
            "\u001b[K     |████████████████████████████████| 81kB 8.5MB/s \n",
            "\u001b[?25hRequirement already satisfied: joblib>=0.11 in /usr/local/lib/python3.6/dist-packages (from scikit-learn->sklearn->-r requirements.txt (line 7)) (0.14.0)\n",
            "Requirement already satisfied: requests-oauthlib>=0.7.0 in /usr/local/lib/python3.6/dist-packages (from google-auth-oauthlib<0.5,>=0.4.1->tensorboard<2.1.0,>=2.0.0->tensorflow-gpu>=1.13.1->-r requirements.txt (line 1)) (1.3.0)\n",
            "Requirement already satisfied: urllib3<1.25,>=1.21.1 in /usr/local/lib/python3.6/dist-packages (from requests<3,>=2.21.0->tensorboard<2.1.0,>=2.0.0->tensorflow-gpu>=1.13.1->-r requirements.txt (line 1)) (1.24.3)\n",
            "Requirement already satisfied: idna<2.9,>=2.5 in /usr/local/lib/python3.6/dist-packages (from requests<3,>=2.21.0->tensorboard<2.1.0,>=2.0.0->tensorflow-gpu>=1.13.1->-r requirements.txt (line 1)) (2.8)\n",
            "Requirement already satisfied: certifi>=2017.4.17 in /usr/local/lib/python3.6/dist-packages (from requests<3,>=2.21.0->tensorboard<2.1.0,>=2.0.0->tensorflow-gpu>=1.13.1->-r requirements.txt (line 1)) (2019.11.28)\n",
            "Requirement already satisfied: chardet<3.1.0,>=3.0.2 in /usr/local/lib/python3.6/dist-packages (from requests<3,>=2.21.0->tensorboard<2.1.0,>=2.0.0->tensorflow-gpu>=1.13.1->-r requirements.txt (line 1)) (3.0.4)\n",
            "Requirement already satisfied: pyasn1-modules>=0.2.1 in /usr/local/lib/python3.6/dist-packages (from google-auth<2,>=1.6.3->tensorboard<2.1.0,>=2.0.0->tensorflow-gpu>=1.13.1->-r requirements.txt (line 1)) (0.2.7)\n",
            "Requirement already satisfied: rsa<4.1,>=3.1.4 in /usr/local/lib/python3.6/dist-packages (from google-auth<2,>=1.6.3->tensorboard<2.1.0,>=2.0.0->tensorflow-gpu>=1.13.1->-r requirements.txt (line 1)) (4.0)\n",
            "Requirement already satisfied: cachetools<3.2,>=2.0.0 in /usr/local/lib/python3.6/dist-packages (from google-auth<2,>=1.6.3->tensorboard<2.1.0,>=2.0.0->tensorflow-gpu>=1.13.1->-r requirements.txt (line 1)) (3.1.1)\n",
            "Requirement already satisfied: oauthlib>=3.0.0 in /usr/local/lib/python3.6/dist-packages (from requests-oauthlib>=0.7.0->google-auth-oauthlib<0.5,>=0.4.1->tensorboard<2.1.0,>=2.0.0->tensorflow-gpu>=1.13.1->-r requirements.txt (line 1)) (3.1.0)\n",
            "Requirement already satisfied: pyasn1<0.5.0,>=0.4.6 in /usr/local/lib/python3.6/dist-packages (from pyasn1-modules>=0.2.1->google-auth<2,>=1.6.3->tensorboard<2.1.0,>=2.0.0->tensorflow-gpu>=1.13.1->-r requirements.txt (line 1)) (0.4.8)\n",
            "Building wheels for collected packages: pyhocon\n",
            "  Building wheel for pyhocon (setup.py) ... \u001b[?25l\u001b[?25hdone\n",
            "  Created wheel for pyhocon: filename=pyhocon-0.3.51-cp36-none-any.whl size=17210 sha256=3a18e166ee3742ebe7d0c41bb80325e47fefb8ae2200750d7179b8f3d577d758\n",
            "  Stored in directory: /root/.cache/pip/wheels/cc/75/73/ee5c7152a5225cedaa52eb7fff3b24cef70e317f9a73c6deec\n",
            "Successfully built pyhocon\n",
            "\u001b[31mERROR: tensorflow 1.15.0 has requirement tensorboard<1.16.0,>=1.15.0, but you'll have tensorboard 2.0.2 which is incompatible.\u001b[0m\n",
            "\u001b[31mERROR: tensorflow 1.15.0 has requirement tensorflow-estimator==1.15.1, but you'll have tensorflow-estimator 2.0.1 which is incompatible.\u001b[0m\n",
            "\u001b[31mERROR: tensorboard 2.0.2 has requirement grpcio>=1.24.3, but you'll have grpcio 1.15.0 which is incompatible.\u001b[0m\n",
            "\u001b[31mERROR: google-colab 1.0.0 has requirement google-auth~=1.4.0, but you'll have google-auth 1.8.1 which is incompatible.\u001b[0m\n",
            "Installing collected packages: google-auth, tensorboard, tensorflow-estimator, tensorflow-gpu, pyhocon\n",
            "  Found existing installation: google-auth 1.4.2\n",
            "    Uninstalling google-auth-1.4.2:\n",
            "      Successfully uninstalled google-auth-1.4.2\n",
            "  Found existing installation: tensorboard 1.15.0\n",
            "    Uninstalling tensorboard-1.15.0:\n",
            "      Successfully uninstalled tensorboard-1.15.0\n",
            "  Found existing installation: tensorflow-estimator 1.15.1\n",
            "    Uninstalling tensorflow-estimator-1.15.1:\n",
            "      Successfully uninstalled tensorflow-estimator-1.15.1\n",
            "Successfully installed google-auth-1.8.1 pyhocon-0.3.51 tensorboard-2.0.2 tensorflow-estimator-2.0.1 tensorflow-gpu-2.0.0\n"
          ],
          "name": "stdout"
        },
        {
          "output_type": "display_data",
          "data": {
            "application/vnd.colab-display-data+json": {
              "pip_warning": {
                "packages": [
                  "google"
                ]
              }
            }
          },
          "metadata": {
            "tags": []
          }
        }
      ]
    },
    {
      "cell_type": "code",
      "metadata": {
        "id": "5jy8Ro3GErhW",
        "colab_type": "code",
        "outputId": "f5797b4f-7312-44ce-cce0-b1d129085e47",
        "colab": {
          "base_uri": "https://localhost:8080/",
          "height": 153
        }
      },
      "source": [
        "ls"
      ],
      "execution_count": 6,
      "outputs": [
        {
          "output_type": "stream",
          "text": [
            "cache_elmo.py           experiments.conf       README.md\n",
            "\u001b[0m\u001b[01;32mconll.py\u001b[0m*               \u001b[01;32mfilter_embeddings.py\u001b[0m*  requirements.txt\n",
            "continuous_evaluate.py  \u001b[01;32mget_char_vocab.py\u001b[0m*     \u001b[01;32msetup_all.sh\u001b[0m*\n",
            "coref_kernels.cc        LICENSE                \u001b[01;32msetup_training.sh\u001b[0m*\n",
            "coref_model.py          metrics.py             \u001b[01;32mtrain.py\u001b[0m*\n",
            "coref_ops.py            \u001b[01;32mminimize.py\u001b[0m*           util.py\n",
            "\u001b[01;32mdemo.py\u001b[0m*                \u001b[01;32mpredict.py\u001b[0m*            worker.py\n",
            "\u001b[01;32mevaluate.py\u001b[0m*            ps.py\n"
          ],
          "name": "stdout"
        }
      ]
    },
    {
      "cell_type": "code",
      "metadata": {
        "id": "C7kETpQnFbHX",
        "colab_type": "code",
        "outputId": "76973874-5c81-4b16-d657-3ce3aa00402c",
        "colab": {
          "base_uri": "https://localhost:8080/",
          "height": 51
        }
      },
      "source": [
        "cd e2e-coref"
      ],
      "execution_count": 7,
      "outputs": [
        {
          "output_type": "stream",
          "text": [
            "[Errno 2] No such file or directory: 'e2e-coref'\n",
            "/content/e2e-coref\n"
          ],
          "name": "stdout"
        }
      ]
    },
    {
      "cell_type": "code",
      "metadata": {
        "id": "bhWrW-rFFg3X",
        "colab_type": "code",
        "outputId": "2fa9af23-b35f-4b59-fc04-cbd118740f4b",
        "colab": {
          "base_uri": "https://localhost:8080/",
          "height": 153
        }
      },
      "source": [
        "ls"
      ],
      "execution_count": 8,
      "outputs": [
        {
          "output_type": "stream",
          "text": [
            "cache_elmo.py           experiments.conf       README.md\n",
            "\u001b[0m\u001b[01;32mconll.py\u001b[0m*               \u001b[01;32mfilter_embeddings.py\u001b[0m*  requirements.txt\n",
            "continuous_evaluate.py  \u001b[01;32mget_char_vocab.py\u001b[0m*     \u001b[01;32msetup_all.sh\u001b[0m*\n",
            "coref_kernels.cc        LICENSE                \u001b[01;32msetup_training.sh\u001b[0m*\n",
            "coref_model.py          metrics.py             \u001b[01;32mtrain.py\u001b[0m*\n",
            "coref_ops.py            \u001b[01;32mminimize.py\u001b[0m*           util.py\n",
            "\u001b[01;32mdemo.py\u001b[0m*                \u001b[01;32mpredict.py\u001b[0m*            worker.py\n",
            "\u001b[01;32mevaluate.py\u001b[0m*            ps.py\n"
          ],
          "name": "stdout"
        }
      ]
    },
    {
      "cell_type": "code",
      "metadata": {
        "id": "2pmHor4IFnZV",
        "colab_type": "code",
        "colab": {}
      },
      "source": [
        "from google.colab import drive"
      ],
      "execution_count": 0,
      "outputs": []
    },
    {
      "cell_type": "code",
      "metadata": {
        "id": "TF8fPowhF8Bh",
        "colab_type": "code",
        "outputId": "757c3882-0859-4cbc-ca52-dc1f3bf2935c",
        "colab": {
          "base_uri": "https://localhost:8080/",
          "height": 122
        }
      },
      "source": [
        "drive.mount('/content/gdrive')"
      ],
      "execution_count": 10,
      "outputs": [
        {
          "output_type": "stream",
          "text": [
            "Go to this URL in a browser: https://accounts.google.com/o/oauth2/auth?client_id=947318989803-6bn6qk8qdgf4n4g3pfee6491hc0brc4i.apps.googleusercontent.com&redirect_uri=urn%3aietf%3awg%3aoauth%3a2.0%3aoob&response_type=code&scope=email%20https%3a%2f%2fwww.googleapis.com%2fauth%2fdocs.test%20https%3a%2f%2fwww.googleapis.com%2fauth%2fdrive%20https%3a%2f%2fwww.googleapis.com%2fauth%2fdrive.photos.readonly%20https%3a%2f%2fwww.googleapis.com%2fauth%2fpeopleapi.readonly\n",
            "\n",
            "Enter your authorization code:\n",
            "··········\n",
            "Mounted at /content/gdrive\n"
          ],
          "name": "stdout"
        }
      ]
    },
    {
      "cell_type": "code",
      "metadata": {
        "id": "YnV6MkqzF_JP",
        "colab_type": "code",
        "outputId": "c9898a81-8935-40b3-c475-aa8078e9c7c4",
        "colab": {
          "base_uri": "https://localhost:8080/",
          "height": 102
        }
      },
      "source": [
        "!cp /content/gdrive/My\\ Drive/coref-model/e2e-coref.tgz /content/e2e-coref/\n",
        "!tar -xzvf e2e-coref.tgz"
      ],
      "execution_count": 11,
      "outputs": [
        {
          "output_type": "stream",
          "text": [
            "glove_50_300_2.txt\n",
            "logs/\n",
            "logs/final/\n",
            "logs/final/model.max.ckpt.index\n",
            "logs/final/model.max.ckpt.data-00000-of-00001\n"
          ],
          "name": "stdout"
        }
      ]
    },
    {
      "cell_type": "code",
      "metadata": {
        "id": "oX_MWAytGPd9",
        "colab_type": "code",
        "outputId": "680745bd-3cea-424f-a607-50dd83dbf6b2",
        "colab": {
          "base_uri": "https://localhost:8080/",
          "height": 80
        }
      },
      "source": [
        "! pip3 install tensorflow-gpu==1.14.0\n",
        "!./setup_all.sh"
      ],
      "execution_count": 0,
      "outputs": [
        {
          "output_type": "stream",
          "text": [
            "Collecting tensorflow-gpu==1.14.0\n",
            "\u001b[?25l  Downloading https://files.pythonhosted.org/packages/76/04/43153bfdfcf6c9a4c38ecdb971ca9a75b9a791bb69a764d652c359aca504/tensorflow_gpu-1.14.0-cp36-cp36m-manylinux1_x86_64.whl (377.0MB)\n",
            "\u001b[K     |███████████████████▍            | 228.3MB 33.5MB/s eta 0:00:05"
          ],
          "name": "stdout"
        }
      ]
    },
    {
      "cell_type": "code",
      "metadata": {
        "id": "gJjD4QKfHCyV",
        "colab_type": "code",
        "colab": {}
      },
      "source": [
        "ls "
      ],
      "execution_count": 0,
      "outputs": []
    },
    {
      "cell_type": "code",
      "metadata": {
        "id": "gDdTW7QIMZgw",
        "colab_type": "code",
        "colab": {}
      },
      "source": [
        "! head -n 10 glove.840B.300d.txt"
      ],
      "execution_count": 0,
      "outputs": []
    },
    {
      "cell_type": "code",
      "metadata": {
        "id": "TCI8H3ExMfTb",
        "colab_type": "code",
        "colab": {}
      },
      "source": [
        "!wget https://lil.cs.washington.edu/coref/char_vocab.english.txt\n"
      ],
      "execution_count": 0,
      "outputs": []
    },
    {
      "cell_type": "code",
      "metadata": {
        "id": "79CE4o3oM5AN",
        "colab_type": "code",
        "colab": {}
      },
      "source": [
        "import tensorflow as tf; \n",
        "print(\" \".join(tf.sysconfig.get_compile_flags()))\n",
        "print(\" \".join(tf.sysconfig.get_link_flags()))\n",
        "#!g++ -std=c++11 -shared coref_kernels.cc -o coref_kernels.so -fPIC ${TF_CFLAGS[@]} ${TF_LFLAGS[@]} -O2 -D_GLIBCXX_USE_CXX11_ABI=0\n"
      ],
      "execution_count": 0,
      "outputs": []
    },
    {
      "cell_type": "code",
      "metadata": {
        "id": "zFIEH722nXlI",
        "colab_type": "code",
        "colab": {}
      },
      "source": [
        "!g++ -std=c++11 -shared coref_kernels.cc -o coref_kernels.so -fPIC -I/usr/local/lib/python3.6/dist-packages/tensorflow/include -D_GLIBCXX_USE_CXX11_ABI=0 -L/usr/local/lib/python3.6/dist-packages/tensorflow -l:libtensorflow_framework.so.1 -O2 -D_GLIBCXX_USE_CXX11_ABI=0"
      ],
      "execution_count": 0,
      "outputs": []
    },
    {
      "cell_type": "code",
      "metadata": {
        "id": "ZMuYhh8CNQOr",
        "colab_type": "code",
        "colab": {}
      },
      "source": [
        "!python demo.py final"
      ],
      "execution_count": 0,
      "outputs": []
    },
    {
      "cell_type": "code",
      "metadata": {
        "id": "KSyYh82xnn7Q",
        "colab_type": "code",
        "colab": {}
      },
      "source": [
        ""
      ],
      "execution_count": 0,
      "outputs": []
    }
  ]
}